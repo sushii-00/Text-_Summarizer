{
 "cells": [
  {
   "cell_type": "markdown",
   "id": "58cb4101",
   "metadata": {},
   "source": [
    "### Approach:\n",
    "**Extractive text summarization** is all about finding the more important sentences from a document as a summary of that document. Our approach is using the **TextRank algorithm** to find these 'important' sentences"
   ]
  },
  {
   "cell_type": "markdown",
   "id": "e8c587f9",
   "metadata": {},
   "source": [
    "1. numpy library helps in working with arrays: array creation and manipulation\n",
    "this implementation uses array for storing the matrices generated as 2-D arrays\n",
    "2. PyPDF2 is a library used for reading the PDF files\n",
    "3. docx2txt is the library used for reading Word documents \n",
    "4. sys library has been used for printing the size of data structures used in the program\n",
    "5. matplotlib is a library that is used to visualize the data by drawing graphs of matrix inputs\n",
    "we will use it for drawing the matrices generated later in the program \n",
    "6. %matplotlib inline is a command used to show the graphs in the jupyter notebook\n",
    "networkx library helps in working with graphs ...\n",
    "7. and later performing the PageRank algorithm ...\n",
    "which is the crux of this implementation to find ...\n",
    "8. the importance of each sentence using their 'rank' as a metric ...\n",
    "rank, the output of the method textrank, is a measure of importance of sentences\n",
    "this library has been used in the cell no. ()\n",
    "9. the PunktSentenceTokenizer library is being imported from the file punkt.py contained in package nltk.tokenize \n",
    "this is used to tokenize the document into sentences\n",
    "\n",
    "10. Tokenization: Tokenization is the process of demarcating and possibly classifying.. \n",
    "sections of a string of input characters. \n",
    "11. The resulting tokens are then passed on to some other form of processing. \n",
    "12. TfidfTransformer and CountVectorizer libraries are being imported\n",
    "\n",
    "13. CountVectorizer: In this implementation, a CountVectorizer object is being created that ..\n",
    "will be used for creating the document-term matrix\n",
    "\n",
    "14. tFidTransformer: In this implementation,TfidfTransformer is used for executing the method fit_transform()... \n",
    "which provides the output as a document-term matrix normalized (value 0-1) according to the TF-IDF.\n",
    "TF-IDF is a statistical measure used to determine the mathematical significance of words in documents.\n",
    "It is a type f word embedding technique\n",
    "15. TF(Term Frequency): the no. of times a term(a word here) appears in the current document(single sentence here)\n",
    "16. IDF(Inverse Document Frequency): the no. of times a term(a word here) appears in the entire corpus\n",
    "Corpus: set of all sentences\n",
    "\n"
   ]
  },
  {
   "cell_type": "markdown",
   "id": "d9c2ff01",
   "metadata": {},
   "source": [
    "### 1. Importing important libraries"
   ]
  },
  {
   "cell_type": "code",
   "execution_count": 1,
   "id": "9c8a711a",
   "metadata": {},
   "outputs": [],
   "source": [
    "import numpy as np\n",
    "import PyPDF2\n",
    "import docx2txt\n",
    "import sys\n",
    "import matplotlib.pyplot as plt\n",
    "%matplotlib inline \n",
    "import networkx as nx\n",
    "from nltk.tokenize.punkt import PunktSentenceTokenizer\n",
    "from sklearn.feature_extraction.text import TfidfTransformer, CountVectorizer"
   ]
  },
  {
   "cell_type": "markdown",
   "id": "192ef75a",
   "metadata": {},
   "source": [
    "### 2. Function to read the document from user"
   ]
  },
  {
   "cell_type": "markdown",
   "id": "2e24ca67",
   "metadata": {},
   "source": [
    "* Supported formats: .txt, .pdf\n",
    "\n",
    "* Input: Takes the name of the file as input.\n",
    "\n",
    "* Output: Returns a string output containing the contents of the file."
   ]
  },
  {
   "cell_type": "code",
   "execution_count": 2,
   "id": "df4a05d7",
   "metadata": {},
   "outputs": [],
   "source": [
    "def readDoc():\n",
    "    name = input(\"please enter input file name: \")\n",
    "    print(\"You have entered %s\" %name )\n",
    "    # now read the type of document\n",
    "    \n",
    "    if name.lower().endswith('.txt'):\n",
    "        choice = 1\n",
    "    elif name.lower().endswith('.pdf'):\n",
    "        choice = 2\n",
    "    else:\n",
    "        choice = 3\n",
    "    print(choice)    \n",
    "    \n",
    "    # case 1: document being a text file\n",
    "    if choice == 1:\n",
    "        file = open(name, 'r' , errors = 'ignore')\n",
    "        document = file.read()\n",
    "        file.close()\n",
    "   # case 2: document being a pdf file\n",
    "    elif choice == 2:\n",
    "        pdfFileObj = open(name , 'rb')\n",
    "        pdfReader = PyPDF2.PdfFileReader(pdfFileObj)\n",
    "        pageObj = pdfReader.getpage(0)\n",
    "        document = pageObj.extractText()\n",
    "        pdfFileObj.close()\n",
    "        \n",
    "    # case 3: none of the format\n",
    "    else:\n",
    "        print('Failed to load a valid file')\n",
    "        print('Returning an empty string')\n",
    "        document = ''\n",
    "        \n",
    "    print(type(document))\n",
    "    return document"
   ]
  },
  {
   "cell_type": "code",
   "execution_count": 3,
   "id": "9ed7446f",
   "metadata": {},
   "outputs": [],
   "source": [
    "# the function used for tokenizing the sentences\n",
    "# tokenization of a sentence: '''provided in cell() above'''\n",
    "\n",
    "def tokenize(document):\n",
    "    # We are tokenizing using the PunktSentenceTokenizer\n",
    "    # we call an instance of this class as sentence_tokenizer\n",
    "    doc_tokenizer = PunktSentenceTokenizer()\n",
    "    \n",
    "    # tokenize() method: takes our document as input and returns a list of all the sentences in the document\n",
    "    \n",
    "    # sentences is a list containing each sentence of the document as an element\n",
    "    sentences_list = doc_tokenizer.tokenize(document)\n",
    "    return sentences_list"
   ]
  },
  {
   "cell_type": "code",
   "execution_count": 4,
   "id": "4f40a44e",
   "metadata": {},
   "outputs": [
    {
     "name": "stdout",
     "output_type": "stream",
     "text": [
      "please enter input file name: story2.txt\n",
      "You have entered story2.txt\n",
      "1\n",
      "<class 'str'>\n",
      "The length of the file is: 613\n"
     ]
    }
   ],
   "source": [
    "# reading a file and \n",
    "# printing the size of the file\n",
    "document = readDoc()\n",
    "print('The length of the file is:', end=' ')\n",
    "print(len(document))"
   ]
  },
  {
   "cell_type": "code",
   "execution_count": 5,
   "id": "fb85a3fb",
   "metadata": {},
   "outputs": [
    {
     "name": "stdout",
     "output_type": "stream",
     "text": [
      "The size of the list in Bytes is: 88\n",
      "The size of the item 0 in Bytes is: 249\n"
     ]
    }
   ],
   "source": [
    "# we want to tokenize the document for further processing\n",
    "# tokenizing the sentence means that we are creating a list of all the sentences of the document.\n",
    "# Need of tokenizing the document: Initially the document is in just a string format.\n",
    "# if we want to process the document, we need to store it in a data structure.\n",
    "# Tokenization of document into words is also possible, but we will go with the tokenizing with the sentences\n",
    "# Since we want to choose the most relevant sentences, we need to generate tokens of sentences only\n",
    "sentences_list = tokenize(document)\n",
    "\n",
    "# let us print the size of memory used by the list sentences\n",
    "print('The size of the list in Bytes is: {}'.format(sys.getsizeof(sentences_list)))\n",
    "\n",
    "# the size of one of the element of the list\n",
    "print('The size of the item 0 in Bytes is: {}'.format(sys.getsizeof(sentences_list[0])))"
   ]
  },
  {
   "cell_type": "code",
   "execution_count": 6,
   "id": "56b4607b",
   "metadata": {},
   "outputs": [
    {
     "name": "stdout",
     "output_type": "stream",
     "text": [
      "<class 'list'>\n"
     ]
    }
   ],
   "source": [
    "# let us see the data type of sentences_list\n",
    "# It will be list\n",
    "print(type(sentences_list))"
   ]
  },
  {
   "cell_type": "code",
   "execution_count": 7,
   "id": "e5b460e9",
   "metadata": {},
   "outputs": [
    {
     "name": "stdout",
     "output_type": "stream",
     "text": [
      "The size of the list \"sentences\" is: 4\n"
     ]
    }
   ],
   "source": [
    "# let us analyse the elements of the sentences\n",
    "# len() method applies on the list and provides the number of elements in the list\n",
    "print('The size of the list \"sentences\" is: {}'.format(len(sentences_list)))"
   ]
  },
  {
   "cell_type": "code",
   "execution_count": 8,
   "id": "c9b025fc",
   "metadata": {},
   "outputs": [
    {
     "name": "stdout",
     "output_type": "stream",
     "text": [
      "An officer of the Central Reserve Police Force (CRPF) officer was killed in a gunfight with the Maoists in a dense forest in the insurgency-hit Sukma district of Chhattisgarh, police said on Saturday.\n",
      "The gunfight took place last night in Kistaram police station area when a team of CRPF's 212th battalion was out on a search-cum-area domination operation, Deputy Inspector General of Police (South Bastar Range) Sundarraj P told PTI.\n",
      "The deceased was a native of Madhya Pradesh.\n",
      "Security forces have launched a combing operation in the area, located around 500 km away from the state capital Raipur, he added.\n"
     ]
    }
   ],
   "source": [
    "# print the elements of the list\n",
    "# If the input document is long, which on realistically will be wrong, we would not like to print the entire document\n",
    "for i in sentences_list:\n",
    "    print(i)"
   ]
  },
  {
   "cell_type": "markdown",
   "id": "4783ac48",
   "metadata": {},
   "source": [
    "### Generate term-document matrix (TD matrix) of the data"
   ]
  },
  {
   "cell_type": "code",
   "execution_count": 9,
   "id": "5b40959f",
   "metadata": {},
   "outputs": [],
   "source": [
    "# Convert a collection of text documents to a matrix of token counts\n",
    "# fit_transform method of CountVectorizer() class \n",
    "# Learn the vocabulary dictionary and return term-document matrix. \n",
    "# I/p: An iterable which yields either str, unicode or file objects.\n",
    "# O/p: The term-document matrix named cv_matrix\n",
    "cv = CountVectorizer()\n",
    "cv_matrix = cv.fit_transform(sentences_list)"
   ]
  },
  {
   "cell_type": "code",
   "execution_count": 10,
   "id": "91662217",
   "metadata": {},
   "outputs": [
    {
     "name": "stdout",
     "output_type": "stream",
     "text": [
      "Result demo array is [[0 1 1 1 1 1 0 1]\n",
      " [1 0 0 1 0 0 1 0]]\n",
      "Feature list: ['am', 'are', 'ashish', 'bad', 'good', 'is', 'not', 'you']\n"
     ]
    },
    {
     "name": "stderr",
     "output_type": "stream",
     "text": [
      "C:\\Users\\sudha\\anaconda3\\envs\\tf2.6.0\\lib\\site-packages\\sklearn\\utils\\deprecation.py:87: FutureWarning: Function get_feature_names is deprecated; get_feature_names is deprecated in 1.0 and will be removed in 1.2. Please use get_feature_names_out instead.\n",
      "  warnings.warn(msg, category=FutureWarning)\n"
     ]
    }
   ],
   "source": [
    "# a demo of what CountVectorizer().fit_transform(text) does\n",
    "cv_demo = CountVectorizer() # a demo object of class CountVectorizer\n",
    "\n",
    "# I have repeated the words to make a non-ambiguous array of the document text matrix \n",
    "\n",
    "text_demo = [\"Ashish is good, you are bad\", \"I am not bad\"] \n",
    "res_demo = cv_demo.fit_transform(text_demo)\n",
    "print('Result demo array is {}'.format(res_demo.toarray()))\n",
    "\n",
    "# Result is 2-d matrix containing document text matrix\n",
    "# Notice that in the second row, there is 2.\n",
    "# also, bad is repeated twice in that sentence.\n",
    "# so we can infer that 2 is corresponding to the word 'bad'\n",
    "print('Feature list: {}'.format(cv_demo.get_feature_names()))"
   ]
  },
  {
   "cell_type": "code",
   "execution_count": 11,
   "id": "a283bf4a",
   "metadata": {},
   "outputs": [
    {
     "name": "stdout",
     "output_type": "stream",
     "text": [
      "The data type of bow matrix <class 'scipy.sparse.csr.csr_matrix'>\n",
      "Shape of the matrix <bound method spmatrix.get_shape of <4x70 sparse matrix of type '<class 'numpy.int64'>'\n",
      "\twith 85 stored elements in Compressed Sparse Row format>>\n",
      "Size of the matrix is: 48\n",
      "['212th', '500', 'added', 'an', 'area', 'around', 'away', 'bastar', 'battalion', 'capital', 'central', 'chhattisgarh', 'combing', 'crpf', 'cum', 'deceased', 'dense', 'deputy', 'district', 'domination', 'force', 'forces', 'forest', 'from', 'general', 'gunfight', 'have', 'he', 'hit', 'in', 'inspector', 'insurgency', 'killed', 'kistaram', 'km', 'last', 'launched', 'located', 'madhya', 'maoists', 'native', 'night', 'of', 'officer', 'on', 'operation', 'out', 'place', 'police', 'pradesh', 'pti', 'raipur', 'range', 'reserve', 'said', 'saturday', 'search', 'security', 'south', 'state', 'station', 'sukma', 'sundarraj', 'team', 'the', 'told', 'took', 'was', 'when', 'with']\n",
      "[[0 0 0 1 0 0 0 0 0 0 1 1 0 1 0 0 1 0 1 0 1 0 1 0 0 1 0 0 1 3 0 1 1 0 0 0\n",
      "  0 0 0 1 0 0 2 2 1 0 0 0 2 0 0 0 0 1 1 1 0 0 0 0 0 1 0 0 3 0 0 1 0 1]\n",
      " [1 0 0 0 2 0 0 1 1 0 0 0 0 1 1 0 0 1 0 1 0 0 0 0 1 1 0 0 0 1 1 0 0 1 0 1\n",
      "  0 0 0 0 0 1 2 0 1 1 1 1 2 0 1 0 1 0 0 0 1 0 1 0 1 0 1 1 1 1 1 1 1 0]\n",
      " [0 0 0 0 0 0 0 0 0 0 0 0 0 0 0 1 0 0 0 0 0 0 0 0 0 0 0 0 0 0 0 0 0 0 0 0\n",
      "  0 0 1 0 1 0 1 0 0 0 0 0 0 1 0 0 0 0 0 0 0 0 0 0 0 0 0 0 1 0 0 1 0 0]\n",
      " [0 1 1 0 1 1 1 0 0 1 0 0 1 0 0 0 0 0 0 0 0 1 0 1 0 0 1 1 0 1 0 0 0 0 1 0\n",
      "  1 1 0 0 0 0 0 0 0 1 0 0 0 0 0 1 0 0 0 0 0 1 0 1 0 0 0 0 2 0 0 0 0 0]]\n"
     ]
    }
   ],
   "source": [
    "# printing the cv_matrix type\n",
    "# and how it is being stored in memory?\n",
    "# it is stored in the compressed row format\n",
    "# compressed row format: \n",
    "print('The data type of bow matrix {}'.format(type(cv_matrix)))\n",
    "print('Shape of the matrix {}'.format(cv_matrix.get_shape))\n",
    "print('Size of the matrix is: {}'.format(sys.getsizeof(cv_matrix)))\n",
    "print(cv.get_feature_names())\n",
    "print(cv_matrix.toarray())"
   ]
  },
  {
   "cell_type": "code",
   "execution_count": 12,
   "id": "f460d569",
   "metadata": {},
   "outputs": [
    {
     "name": "stdout",
     "output_type": "stream",
     "text": [
      "[[0.         0.         0.         0.17539606 0.         0.\n",
      "  0.         0.         0.         0.         0.17539606 0.17539606\n",
      "  0.         0.13828427 0.         0.         0.17539606 0.\n",
      "  0.17539606 0.         0.17539606 0.         0.17539606 0.\n",
      "  0.         0.13828427 0.         0.         0.17539606 0.3358591\n",
      "  0.         0.17539606 0.17539606 0.         0.         0.\n",
      "  0.         0.         0.         0.17539606 0.         0.\n",
      "  0.22390607 0.35079212 0.13828427 0.         0.         0.\n",
      "  0.27656854 0.         0.         0.         0.         0.17539606\n",
      "  0.17539606 0.17539606 0.         0.         0.         0.\n",
      "  0.         0.17539606 0.         0.         0.27458682 0.\n",
      "  0.         0.11195303 0.         0.17539606]\n",
      " [0.17361558 0.         0.         0.         0.27376103 0.\n",
      "  0.         0.17361558 0.17361558 0.         0.         0.\n",
      "  0.         0.13688052 0.17361558 0.         0.         0.17361558\n",
      "  0.         0.17361558 0.         0.         0.         0.\n",
      "  0.17361558 0.13688052 0.         0.         0.         0.11081657\n",
      "  0.17361558 0.         0.         0.17361558 0.         0.17361558\n",
      "  0.         0.         0.         0.         0.         0.17361558\n",
      "  0.22163315 0.         0.13688052 0.13688052 0.17361558 0.17361558\n",
      "  0.27376103 0.         0.17361558 0.         0.17361558 0.\n",
      "  0.         0.         0.17361558 0.         0.17361558 0.\n",
      "  0.17361558 0.         0.17361558 0.17361558 0.09059981 0.17361558\n",
      "  0.17361558 0.11081657 0.17361558 0.        ]\n",
      " [0.         0.         0.         0.         0.         0.\n",
      "  0.         0.         0.         0.         0.         0.\n",
      "  0.         0.         0.         0.44336682 0.         0.\n",
      "  0.         0.         0.         0.         0.         0.\n",
      "  0.         0.         0.         0.         0.         0.\n",
      "  0.         0.         0.         0.         0.         0.\n",
      "  0.         0.         0.44336682 0.         0.44336682 0.\n",
      "  0.2829953  0.         0.         0.         0.         0.\n",
      "  0.         0.44336682 0.         0.         0.         0.\n",
      "  0.         0.         0.         0.         0.         0.\n",
      "  0.         0.         0.         0.         0.2313672  0.\n",
      "  0.         0.2829953  0.         0.        ]\n",
      " [0.         0.23100252 0.23100252 0.         0.18212504 0.23100252\n",
      "  0.23100252 0.         0.         0.23100252 0.         0.\n",
      "  0.23100252 0.         0.         0.         0.         0.\n",
      "  0.         0.         0.         0.23100252 0.         0.23100252\n",
      "  0.         0.         0.23100252 0.23100252 0.         0.14744592\n",
      "  0.         0.         0.         0.         0.23100252 0.\n",
      "  0.23100252 0.23100252 0.         0.         0.         0.\n",
      "  0.         0.         0.         0.18212504 0.         0.\n",
      "  0.         0.         0.         0.23100252 0.         0.\n",
      "  0.         0.         0.         0.23100252 0.         0.23100252\n",
      "  0.         0.         0.         0.         0.24109339 0.\n",
      "  0.         0.         0.         0.        ]]\n"
     ]
    }
   ],
   "source": [
    "# Tnormalized: document-term matrix normalized (value 0-1) according to the TF-IDF\n",
    "# TF(Term Frequency): the no. of times a term(a word here) appears in the current document(single sentence here)\n",
    "# IDF(Inverse Document Frequency): the no. of times a term(a word here) appears in the entire corpus\n",
    "# Corpus: set of all sentences\n",
    "\n",
    "normal_matrix = TfidfTransformer().fit_transform(cv_matrix)\n",
    "print(normal_matrix.toarray())"
   ]
  },
  {
   "cell_type": "code",
   "execution_count": 13,
   "id": "c234c77c",
   "metadata": {},
   "outputs": [
    {
     "name": "stdout",
     "output_type": "stream",
     "text": [
      "<bound method _cs_matrix.toarray of <70x4 sparse matrix of type '<class 'numpy.float64'>'\n",
      "\twith 85 stored elements in Compressed Sparse Column format>>\n"
     ]
    }
   ],
   "source": [
    "print(normal_matrix.T.toarray)\n",
    "res_graph = normal_matrix * normal_matrix.T\n",
    "# plt.spy(res_graph)"
   ]
  },
  {
   "cell_type": "code",
   "execution_count": 14,
   "id": "fe0083d2",
   "metadata": {},
   "outputs": [
    {
     "name": "stdout",
     "output_type": "stream",
     "text": [
      "Number of edges 10\n",
      "Number of vertices 4\n"
     ]
    },
    {
     "data": {
      "image/png": "[encoded data removed]",
      "text/plain": [
       "<Figure size 432x288 with 1 Axes>"
      ]
     },
     "metadata": {},
     "output_type": "display_data"
    },
    {
     "name": "stdout",
     "output_type": "stream",
     "text": [
      "The memory used by the graph in Bytes is: 48\n"
     ]
    }
   ],
   "source": [
    "# drawing a graph to proceed for the textrank algorithm\n",
    "# nx_graph is a graph developed using the networkx library\n",
    "# each node represents a sentence\n",
    "# an edge represents that they have words in common\n",
    "# the edge weight is the number of words that are common in both of the sentences(nodes)\n",
    "# nx.draw() method is used to draw the graph created\n",
    "\n",
    "nx_graph = nx.from_scipy_sparse_matrix(res_graph)\n",
    "nx.draw_circular(nx_graph)\n",
    "print('Number of edges {}'.format(nx_graph.number_of_edges()))\n",
    "print('Number of vertices {}'.format(nx_graph.number_of_nodes()))\n",
    "plt.show()\n",
    "print('The memory used by the graph in Bytes is: {}'.format(sys.getsizeof(nx_graph)))"
   ]
  },
  {
   "cell_type": "code",
   "execution_count": 15,
   "id": "0d8d3e14",
   "metadata": {},
   "outputs": [],
   "source": [
    "#  note that the graph above is dense and therefor it resembles a circle\n",
    "# if a shorter document is taken, a beautiful circular graph can be seen "
   ]
  },
  {
   "cell_type": "markdown",
   "id": "041ba74d",
   "metadata": {},
   "source": [
    "### Getting the rank of every sentence using textrank"
   ]
  },
  {
   "cell_type": "code",
   "execution_count": 16,
   "id": "9659fc1f",
   "metadata": {},
   "outputs": [
    {
     "name": "stdout",
     "output_type": "stream",
     "text": [
      "<class 'dict'>\n",
      "The size used by the dictionary in Bytes is: 232\n",
      "0 0.26514535598812305\n",
      "1 0.25870017964295355\n",
      "2 0.2401348797668423\n",
      "3 0.23601958460208095\n"
     ]
    }
   ],
   "source": [
    "# ranks is a dictionary with key=node(sentences) and value=textrank (the rank of each of the sentences)\n",
    "ranks = nx.pagerank(nx_graph)\n",
    "\n",
    "# analyse the data type of ranks\n",
    "print(type(ranks))\n",
    "print('The size used by the dictionary in Bytes is: {}'.format(sys.getsizeof(ranks)))\n",
    "\n",
    "# print the dictionary\n",
    "for i in ranks:\n",
    "    print(i, ranks[i])"
   ]
  },
  {
   "cell_type": "markdown",
   "id": "05e00025",
   "metadata": {},
   "source": [
    "### Finding important sentences and generating summary"
   ]
  },
  {
   "cell_type": "code",
   "execution_count": 17,
   "id": "017cc573",
   "metadata": {},
   "outputs": [],
   "source": [
    "# enumerate method: returns an enumerate object\n",
    "# Use of list Comprehensions\n",
    "# O/p: sentence_array is the sorted(descending order w.r.t. score value) 2-d array of ranks[sentence] and sentence \n",
    "# For example, if there are two sentences: S1 (with a score of S1 = s1) and S2 with score s2, with s2>s1\n",
    "# then sentence_array is [[s2, S2], [s1, S1]]\n",
    "sentence_array = sorted(((ranks[i], s) for i, s in enumerate(sentences_list)), reverse=True)\n",
    "sentence_array = np.asarray(sentence_array)"
   ]
  },
  {
   "cell_type": "code",
   "execution_count": 18,
   "id": "43c3fa90",
   "metadata": {},
   "outputs": [],
   "source": [
    "# as sentence_array is in descending order wrt score value\n",
    "# fmax is the largest score value(the score of first element)\n",
    "# fmin is the smallest score value(the score of last element)\n",
    "\n",
    "rank_max = float(sentence_array[0][0])\n",
    "rank_min = float(sentence_array[len(sentence_array) - 1][0])"
   ]
  },
  {
   "cell_type": "code",
   "execution_count": 19,
   "id": "0e214456",
   "metadata": {},
   "outputs": [
    {
     "name": "stdout",
     "output_type": "stream",
     "text": [
      "0.26514535598812305\n",
      "0.23601958460208095\n"
     ]
    }
   ],
   "source": [
    "# print the largest and smallest value of scores of the sentence\n",
    "print(rank_max)\n",
    "print(rank_min)"
   ]
  },
  {
   "cell_type": "code",
   "execution_count": 20,
   "id": "07ed0eb8",
   "metadata": {},
   "outputs": [
    {
     "name": "stdout",
     "output_type": "stream",
     "text": [
      "4\n"
     ]
    }
   ],
   "source": [
    "# Normalization of the scores\n",
    "# so that it comes out in the range 0-1\n",
    "# fmax becomes 1\n",
    "# fmin becomes 0\n",
    "# store the normalized values in the list temp_array\n",
    "\n",
    "temp_array = []\n",
    "\n",
    "# if all sentences have equal ranks, means they are all the same\n",
    "# taking any sentence will give the summary, say the first sentence\n",
    "flag = 0\n",
    "if rank_max - rank_min == 0:\n",
    "    temp_array.append(0)\n",
    "    flag = 1\n",
    "\n",
    "# If the sentence has different ranks\n",
    "if flag != 1:\n",
    "    for i in range(0, len(sentence_array)):\n",
    "        temp_array.append((float(sentence_array[i][0]) - rank_min) / (rank_max - rank_min))\n",
    "\n",
    "print(len(temp_array))"
   ]
  },
  {
   "cell_type": "code",
   "execution_count": 21,
   "id": "836959d0",
   "metadata": {},
   "outputs": [],
   "source": [
    "# Calculation of threshold:\n",
    "# We take the mean value of normalized scores\n",
    "# any sentence with the normalized score 0.2 more than the mean value is considered to be \n",
    "threshold = (sum(temp_array) / len(temp_array)) + 0.2"
   ]
  },
  {
   "cell_type": "code",
   "execution_count": 22,
   "id": "07f24eba",
   "metadata": {},
   "outputs": [],
   "source": [
    "# Separate out the sentences that satiasfy the criteria of having a score above the threshold\n",
    "sentence_list = []\n",
    "if len(temp_array) > 1:\n",
    "    for i in range(0, len(temp_array)):\n",
    "        if temp_array[i] > threshold:\n",
    "                sentence_list.append(sentence_array[i][1])\n",
    "else:\n",
    "    sentence_list.append(sentence_array[0][1])"
   ]
  },
  {
   "cell_type": "code",
   "execution_count": 23,
   "id": "dcdbd243",
   "metadata": {},
   "outputs": [],
   "source": [
    "model = sentence_list"
   ]
  },
  {
   "cell_type": "markdown",
   "id": "ef0aab09",
   "metadata": {},
   "source": [
    "### Writing the summary to a new file"
   ]
  },
  {
   "cell_type": "code",
   "execution_count": 24,
   "id": "7595ff75",
   "metadata": {},
   "outputs": [
    {
     "name": "stdout",
     "output_type": "stream",
     "text": [
      "An officer of the Central Reserve Police Force (CRPF) officer was killed in a gunfight with the Maoists in a dense forest in the insurgency-hit Sukma district of Chhattisgarh, police said on Saturday. The gunfight took place last night in Kistaram police station area when a team of CRPF's 212th battalion was out on a search-cum-area domination operation, Deputy Inspector General of Police (South Bastar Range) Sundarraj P told PTI.\n"
     ]
    },
    {
     "data": {
      "text/plain": [
       "<function TextIOWrapper.close()>"
      ]
     },
     "execution_count": 24,
     "metadata": {},
     "output_type": "execute_result"
    }
   ],
   "source": [
    "# print(sentence_list)\n",
    "summary = \" \".join(str(x) for x in sentence_list)\n",
    "print(summary)\n",
    "# save the data in another file, names sum.txt\n",
    "f = open('summ_story2.txt', 'a+')\n",
    "#print(type(f))\n",
    "f.write('\\n')\n",
    "f.write(summary)\n",
    "f.close"
   ]
  },
  {
   "cell_type": "code",
   "execution_count": 25,
   "id": "014e753c",
   "metadata": {},
   "outputs": [
    {
     "name": "stdout",
     "output_type": "stream",
     "text": [
      "An officer of the Central Reserve Police Force (CRPF) officer was killed in a gunfight with the Maoists in a dense forest in the insurgency-hit Sukma district of Chhattisgarh, police said on Saturday.\n",
      "The gunfight took place last night in Kistaram police station area when a team of CRPF's 212th battalion was out on a search-cum-area domination operation, Deputy Inspector General of Police (South Bastar Range) Sundarraj P told PTI.\n"
     ]
    }
   ],
   "source": [
    "for lines in sentence_list:\n",
    "    print(lines)"
   ]
  },
  {
   "cell_type": "code",
   "execution_count": 26,
   "id": "dd528a81",
   "metadata": {},
   "outputs": [
    {
     "name": "stdout",
     "output_type": "stream",
     "text": [
      "<class 'numpy.str_'>\n"
     ]
    }
   ],
   "source": [
    "print(type(lines))"
   ]
  },
  {
   "cell_type": "code",
   "execution_count": null,
   "id": "050b6c4e",
   "metadata": {},
   "outputs": [],
   "source": []
  }
 ],
 "metadata": {
  "kernelspec": {
   "display_name": "tf2.6.0",
   "language": "python",
   "name": "tf2.6.0"
  },
  "language_info": {
   "codemirror_mode": {
    "name": "ipython",
    "version": 3
   },
   "file_extension": ".py",
   "mimetype": "text/x-python",
   "name": "python",
   "nbconvert_exporter": "python",
   "pygments_lexer": "ipython3",
   "version": "3.8.0"
  }
 },
 "nbformat": 4,
 "nbformat_minor": 5
}
